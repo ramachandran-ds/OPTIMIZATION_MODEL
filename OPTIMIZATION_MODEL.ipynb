{
  "nbformat": 4,
  "nbformat_minor": 0,
  "metadata": {
    "colab": {
      "provenance": [],
      "authorship_tag": "ABX9TyPiAycnDdbAz4sDCZmTizyC",
      "include_colab_link": true
    },
    "kernelspec": {
      "name": "python3",
      "display_name": "Python 3"
    },
    "language_info": {
      "name": "python"
    }
  },
  "cells": [
    {
      "cell_type": "markdown",
      "metadata": {
        "id": "view-in-github",
        "colab_type": "text"
      },
      "source": [
        "<a href=\"https://colab.research.google.com/github/ramachandran-ds/OPTIMIZATION_MODEL/blob/main/OPTIMIZATION_MODEL.ipynb\" target=\"_parent\"><img src=\"https://colab.research.google.com/assets/colab-badge.svg\" alt=\"Open In Colab\"/></a>"
      ]
    },
    {
      "cell_type": "code",
      "execution_count": null,
      "metadata": {
        "id": "cmQpMjJleUX4"
      },
      "outputs": [],
      "source": [
        "# ===============================\n",
        "# 📌 Production Planning Optimization using PuLP\n",
        "# ===============================\n",
        "\n",
        "# STEP 1 — Install PuLP (only needed the first time you run the notebook)\n",
        "!pip install pulp\n",
        "\n",
        "# STEP 2 — Import libraries\n",
        "import pulp\n",
        "\n",
        "# STEP 3 — Define the optimization problem\n",
        "# 'LpMaximize' means we are maximizing the objective function\n",
        "problem = pulp.LpProblem(\"Maximize_Profit\", pulp.LpMaximize)\n",
        "\n",
        "# STEP 4 — Define decision variables\n",
        "# Product_A and Product_B ≥ 0 and must be integers\n",
        "product_A = pulp.LpVariable('Product_A', lowBound=0, cat='Integer')\n",
        "product_B = pulp.LpVariable('Product_B', lowBound=0, cat='Integer')\n",
        "\n",
        "# STEP 5 — Define the objective function\n",
        "# Maximize total profit: 40*Product_A + 30*Product_B\n",
        "problem += 40 * product_A + 30 * product_B, \"Total_Profit\"\n",
        "\n",
        "# STEP 6 — Add constraints\n",
        "\n",
        "# Machine 1: 2h per unit of A + 1h per unit of B ≤ 40 available hours\n",
        "problem += 2 * product_A + 1 * product_B <= 40, \"Machine_1_Hours\"\n",
        "\n",
        "# Machine 2: 1h per unit of A + 2h per unit of B ≤ 30 available hours\n",
        "problem += 1 * product_A + 2 * product_B <= 30, \"Machine_2_Hours\"\n",
        "\n",
        "# Demand constraints\n",
        "problem += product_A <= 15, \"Max_Demand_A\"\n",
        "problem += product_B <= 10, \"Max_Demand_B\"\n",
        "\n",
        "# STEP 7 — Solve the problem\n",
        "# PULP_CBC_CMD is the default solver; msg=False disables long log output\n",
        "problem.solve(pulp.PULP_CBC_CMD(msg=False))\n",
        "\n",
        "# STEP 8 — Display results\n",
        "print(\"===== Optimization Results =====\")\n",
        "print(\"Status:\", pulp.LpStatus[problem.status])\n",
        "print(f\"Optimal production of Product A: {int(pulp.value(product_A))} units\")\n",
        "print(f\"Optimal production of Product B: {int(pulp.value(product_B))} units\")\n",
        "print(f\"Maximum Profit: ${pulp.value(problem.objective)}\")\n",
        "\n",
        "# STEP 9 — Optional: show shadow prices and constraints usage\n",
        "print(\"\\n===== Constraint Details =====\")\n",
        "for name, constraint in problem.constraints.items():\n",
        "    print(f\"{name}: Slack = {constraint.slack}, Shadow Price = {constraint.pi}\")\n"
      ]
    }
  ]
}